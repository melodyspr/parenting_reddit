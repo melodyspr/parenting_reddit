{
 "cells": [
  {
   "cell_type": "markdown",
   "metadata": {},
   "source": [
    "# How do mothers and fathers talk about parenting to different audiences? "
   ]
  },
  {
   "cell_type": "markdown",
   "metadata": {},
   "source": [
    "### Import modules"
   ]
  },
  {
   "cell_type": "code",
   "execution_count": 15,
   "metadata": {
    "id": "Ea-LeIgCxPmp"
   },
   "outputs": [],
   "source": [
    "## Load needed modules\n",
    "import sys \n",
    "import pandas as pd\n",
    "import matplotlib.pyplot as plt\n",
    "import numpy as np\n",
    "import scipy.sparse as sp\n",
    "from sklearn.feature_extraction.text import CountVectorizer\n",
    "from sklearn.utils import check_array\n",
    "from sklearn.preprocessing import normalize\n",
    "from sklearn.feature_extraction.text import TfidfTransformer\n",
    "from sklearn.utils.validation import FLOAT_DTYPES, check_is_fitted\n",
    "from sklearn.model_selection import train_test_split\n",
    "import logging\n",
    "import gensim\n",
    "import json\n",
    "import warnings\n",
    "warnings.filterwarnings('ignore')  # To ignore all warnings that arise here to enhance clarity\n",
    "from gensim.models.coherencemodel import CoherenceModel\n",
    "from gensim.models.ldamodel import LdaModel\n",
    "from gensim.corpora.dictionary import Dictionary\n",
    "from numpy import array\n",
    "%config Completer.use_jedi = False"
   ]
  },
  {
   "cell_type": "markdown",
   "metadata": {},
   "source": [
    "# 3. Exploratory Data Analysis"
   ]
  },
  {
   "cell_type": "code",
   "execution_count": 2,
   "metadata": {},
   "outputs": [],
   "source": [
    "#Load datasets \n",
    "data_clean = pd.read_pickle('data_clean.pkl') #every type of word\n",
    "preprocessed = pd.read_pickle('tokenized_nouns.pkl') #only nouns\n",
    "#all_parents = pd.read_pickle('all_parents_nobots.pkl') #before cleaning the data"
   ]
  },
  {
   "cell_type": "code",
   "execution_count": 3,
   "metadata": {},
   "outputs": [
    {
     "name": "stderr",
     "output_type": "stream",
     "text": [
      "[nltk_data] Downloading package wordnet to /Users/melodys/nltk_data...\n",
      "[nltk_data]   Package wordnet is already up-to-date!\n"
     ]
    }
   ],
   "source": [
    "#function to lemmatize the words\n",
    "import nltk\n",
    "from nltk.tokenize import sent_tokenize\n",
    "from nltk.tokenize import word_tokenize\n",
    "from nltk.stem import WordNetLemmatizer\n",
    "nltk.download('wordnet')\n",
    "\n",
    "def lemmatize_tokenize(text):\n",
    "    tokens = word_tokenize(text)\n",
    "    lemmatizer = WordNetLemmatizer()\n",
    "\n",
    "    clean_text = []\n",
    "    \n",
    "    #lemmatize\n",
    "    for word in tokens:\n",
    "        clean_text.append(lemmatizer.lemmatize(word))\n",
    "\n",
    "            \n",
    "    return clean_text"
   ]
  },
  {
   "cell_type": "code",
   "execution_count": 4,
   "metadata": {},
   "outputs": [],
   "source": [
    "#create a new column named \"lemmatized\" and apply lemmatize function to it\n",
    "data_clean['lemmatized'] = data_clean[\"preprocessed\"].copy()\n",
    "data_clean['lemmatized'] = data_clean['lemmatized'].apply(lemmatize_tokenize)"
   ]
  },
  {
   "cell_type": "code",
   "execution_count": 5,
   "metadata": {},
   "outputs": [],
   "source": [
    "#remove stop words\n",
    "from sklearn.feature_extraction import text\n",
    "add_stop_words = [\"time\", \"hair\", \"day\", \"day\", \"month\", \"week\", \"hour\", \"year\", \"minute\", \"idea\", \"adult\", \"age\", \"comment\", \"people\", \"person\", \"man\", \"sure\"]\n",
    "stop_words = text.ENGLISH_STOP_WORDS.union(add_stop_words)\n",
    "#remove stopwords from tokenized dataset\n",
    "data_clean['lemmatized'] = data_clean['lemmatized'].apply(lambda x: [item for item in x if item not in stop_words])"
   ]
  },
  {
   "cell_type": "code",
   "execution_count": 6,
   "metadata": {},
   "outputs": [
    {
     "data": {
      "text/plain": [
       "146996"
      ]
     },
     "execution_count": 6,
     "metadata": {},
     "output_type": "execute_result"
    }
   ],
   "source": [
    "len(data_clean)"
   ]
  },
  {
   "cell_type": "code",
   "execution_count": 7,
   "metadata": {},
   "outputs": [],
   "source": [
    "#remove empty comments\n",
    "data_clean = data_clean[data_clean.astype(str)['lemmatized'] != \"[]\"]\n",
    "#reset index\n",
    "data_clean = data_clean.reset_index(drop=True)"
   ]
  },
  {
   "cell_type": "code",
   "execution_count": 8,
   "metadata": {},
   "outputs": [
    {
     "data": {
      "text/plain": [
       "145938"
      ]
     },
     "execution_count": 8,
     "metadata": {},
     "output_type": "execute_result"
    }
   ],
   "source": [
    "len(data_clean)"
   ]
  },
  {
   "cell_type": "code",
   "execution_count": 9,
   "metadata": {},
   "outputs": [
    {
     "name": "stdout",
     "output_type": "stream",
     "text": [
      "145938 7823\n",
      "16359 2974\n",
      "24002 4834\n",
      "78305 4833\n",
      "27272 2973\n"
     ]
    },
    {
     "data": {
      "text/plain": [
       "True"
      ]
     },
     "execution_count": 9,
     "metadata": {},
     "output_type": "execute_result"
    }
   ],
   "source": [
    "#copy the data_clean file and create a data frame for each category of the study\n",
    "all_parents = data_clean.copy()\n",
    "daddit_dads = all_parents[all_parents[\"subreddit\"] == \"daddit\"]\n",
    "mommit_moms = all_parents[all_parents[\"subreddit\"] == \"Mommit\"]\n",
    "parenting_moms = all_parents[(all_parents.subreddit == \"Parenting\") & (all_parents.gender == \"mother\")]\n",
    "parenting_dads = all_parents[(all_parents.subreddit == \"Parenting\") & (all_parents.gender == \"father\")]\n",
    "#check their length\n",
    "print(len(all_parents), len(set(all_parents[\"author\"])))\n",
    "print(len(daddit_dads), len(set(daddit_dads[\"author\"])))\n",
    "print(len(mommit_moms), len(set(mommit_moms[\"author\"])))\n",
    "print(len(parenting_moms), len(set(parenting_moms[\"author\"])))\n",
    "print(len(parenting_dads), len(set(parenting_dads[\"author\"])))\n",
    "len(all_parents) == len(daddit_dads) + len(mommit_moms) + len(parenting_moms) + len(parenting_dads)"
   ]
  },
  {
   "cell_type": "code",
   "execution_count": 12,
   "metadata": {},
   "outputs": [
    {
     "name": "stdout",
     "output_type": "stream",
     "text": [
      "{'blinky003', 'chucksilo', 'keetz', 'hann-tastic', 'euanpercy', 'shadowguyver'}\n",
      "{'ellisto', 'Inkroodts', 'MatrixPrime81', 'Pewper', 'Giovanni_', 'stirringlion', 'Fangletron'}\n"
     ]
    }
   ],
   "source": [
    "#Authors that are not common between fathers' categories\n",
    "diff_dads = set(parenting_dads[\"author\"]).difference(set(daddit_dads[\"author\"]))\n",
    "print(diff_dads)\n",
    "diff_dads_2 = set(daddit_dads[\"author\"]).difference(set(parenting_dads[\"author\"]))\n",
    "print(diff_dads_2)\n",
    "#Remove missing values\n",
    "all_parents.dropna(inplace = True)\n",
    "#Remove non common authors\n",
    "all_parents = all_parents[~all_parents[\"author\"].isin(diff_dads)]\n",
    "all_parents = all_parents.reset_index(drop=True)\n",
    "all_parents = all_parents[~all_parents[\"author\"].isin(diff_dads_2)]\n",
    "all_parents = all_parents.reset_index(drop=True)"
   ]
  },
  {
   "cell_type": "code",
   "execution_count": 203,
   "metadata": {},
   "outputs": [
    {
     "name": "stdout",
     "output_type": "stream",
     "text": [
      "{'ashes1436', 'dinomom12', 'faelis', 'jimmiejamm', 'beyoumommy', 'siena456', 'mayangoddess13', 'JurassicPark-fan-190', 'tiredempath9'}\n",
      "{'AVeryBrightStar', 'chandyanila', 'garedw', 'cat8abird', 'jk_natasha', 'Sweet-pea-nut', 'raggamop', 'Bembemsmommy', 'Gryffindork7', 'gallaxygas'}\n"
     ]
    }
   ],
   "source": [
    "#Authors that are not common between mothers' categories\n",
    "diff_moms = set(parenting_moms[\"author\"]).difference(set(mommit_moms[\"author\"]))\n",
    "print(diff_moms)\n",
    "diff_moms_2 = set(mommit_moms[\"author\"]).difference(set(parenting_moms[\"author\"]))\n",
    "print(diff_moms_2)\n",
    "#Remove missing values\n",
    "all_parents.dropna(inplace = True)\n",
    "#Remove non common authors\n",
    "all_parents = all_parents[~all_parents[\"author\"].isin(diff_moms)]\n",
    "all_parents = all_parents.reset_index(drop=True)\n",
    "all_parents = all_parents[~all_parents[\"author\"].isin(diff_moms_2)]\n",
    "all_parents = all_parents.reset_index(drop=True)"
   ]
  },
  {
   "cell_type": "code",
   "execution_count": 215,
   "metadata": {},
   "outputs": [],
   "source": [
    "all_parents.to_pickle('NEW_data_clean.pkl')"
   ]
  },
  {
   "cell_type": "code",
   "execution_count": 16,
   "metadata": {},
   "outputs": [],
   "source": [
    "all_parents = pd.read_pickle('NEW_data_clean.pkl')"
   ]
  },
  {
   "cell_type": "code",
   "execution_count": 17,
   "metadata": {},
   "outputs": [
    {
     "data": {
      "text/plain": [
       "0"
      ]
     },
     "execution_count": 17,
     "metadata": {},
     "output_type": "execute_result"
    }
   ],
   "source": [
    "#check if there are common authors\n",
    "len(set(daddit_dads[\"author\"]).intersection(set(mommit_moms[\"author\"])))"
   ]
  },
  {
   "cell_type": "code",
   "execution_count": 48,
   "metadata": {},
   "outputs": [
    {
     "name": "stderr",
     "output_type": "stream",
     "text": [
      "[nltk_data] Downloading package wordnet to /Users/melodys/nltk_data...\n",
      "[nltk_data]   Package wordnet is already up-to-date!\n"
     ]
    }
   ],
   "source": [
    "import nltk\n",
    "from nltk.tokenize import sent_tokenize\n",
    "from nltk.tokenize import word_tokenize\n",
    "from nltk.stem import WordNetLemmatizer\n",
    "nltk.download('wordnet')\n",
    "\n",
    "\n",
    "def lemmatize_tokenize(text):\n",
    "    tokens = word_tokenize(text)\n",
    "    lemmatizer = WordNetLemmatizer()\n",
    "\n",
    "    clean_text = []\n",
    "    \n",
    "    #lemmatize\n",
    "    for word in tokens:\n",
    "        clean_text.append(lemmatizer.lemmatize(word))\n",
    "\n",
    "            \n",
    "    return clean_text"
   ]
  },
  {
   "cell_type": "code",
   "execution_count": 49,
   "metadata": {},
   "outputs": [],
   "source": [
    "data_clean['lemmatized'] = data_clean[\"body\"].copy()\n",
    "data_clean['lemmatized'] = data_clean['lemmatized'].apply(lemmatize_tokenize)\n",
    "#remove empty comments\n",
    "data_clean = data_clean[data_clean.astype(str)['lemmatized'] != \"[]\"]\n",
    "data_clean = data_clean.reset_index(drop=True)"
   ]
  },
  {
   "cell_type": "code",
   "execution_count": 56,
   "metadata": {},
   "outputs": [
    {
     "name": "stdout",
     "output_type": "stream",
     "text": [
      "178889\n",
      "18991\n",
      "27791\n",
      "91635\n",
      "40472\n"
     ]
    }
   ],
   "source": [
    "all_parents = data_clean.copy()\n",
    "print(len(all_parents))\n",
    "daddit_dads = all_parents[all_parents[\"subreddit\"] == \"daddit\"]\n",
    "print(len(daddit_dads))\n",
    "mommit_moms = all_parents[all_parents[\"subreddit\"] == \"Mommit\"]\n",
    "print(len(mommit_moms))\n",
    "parenting_moms = all_parents[(all_parents.subreddit == \"Parenting\") & (all_parents.gender == \"mother\")]\n",
    "print(len(parenting_moms))\n",
    "parenting_dads = all_parents[(all_parents.subreddit == \"Parenting\") & (all_parents.gender == \"father\")]\n",
    "print(len(parenting_dads))"
   ]
  },
  {
   "cell_type": "code",
   "execution_count": 39,
   "metadata": {
    "scrolled": true
   },
   "outputs": [
    {
     "name": "stdout",
     "output_type": "stream",
     "text": [
      "1003\n"
     ]
    },
    {
     "data": {
      "text/plain": [
       "count    7791.000000\n",
       "mean       18.710178\n",
       "std        62.247031\n",
       "min         2.000000\n",
       "25%         4.000000\n",
       "50%         7.000000\n",
       "75%        16.000000\n",
       "max      3769.000000\n",
       "Name: nb of comments, dtype: float64"
      ]
     },
     "execution_count": 39,
     "metadata": {},
     "output_type": "execute_result"
    }
   ],
   "source": [
    "#See how active the authors are \n",
    "from collections import Counter\n",
    "authors_activity = Counter(all_parents[\"author\"])\n",
    "sorted_authors_activity = {k: v for k, v in sorted(authors_activity.items(), key=lambda item: item[1])}\n",
    "df_activity = pd.DataFrame(list(sorted_authors_activity.items()),columns = ['author','nb of comments'])\n",
    "print(len(df_activity[df_activity[\"nb of comments\"] == 2]))\n",
    "df_activity[\"nb of comments\"].describe()"
   ]
  },
  {
   "cell_type": "code",
   "execution_count": 185,
   "metadata": {},
   "outputs": [
    {
     "data": {
      "text/plain": [
       "Text(0, 0.5, 'Number of Authors')"
      ]
     },
     "execution_count": 185,
     "metadata": {},
     "output_type": "execute_result"
    },
    {
     "data": {
      "image/png": "[encoded data removed]",
      "text/plain": [
       "<Figure size 432x288 with 1 Axes>"
      ]
     },
     "metadata": {
      "needs_background": "light"
     },
     "output_type": "display_data"
    }
   ],
   "source": [
    "# matplotlib histogram\n",
    "plt.hist(df_activity['nb of comments'], color = 'salmon', edgecolor = 'black',\n",
    "         bins = int(100))\n",
    "\n",
    "\n",
    "# Add labels\n",
    "plt.title(\"Number of comments published by parents\")\n",
    "plt.xlabel('Number of Comments')\n",
    "plt.ylabel('Number of Authors')"
   ]
  },
  {
   "cell_type": "code",
   "execution_count": 64,
   "metadata": {},
   "outputs": [
    {
     "data": {
      "text/plain": [
       "0            [prime, minister, of, australia, in, training]\n",
       "1         [i, picked, up, pack, a, pack, of, kb, a, bomb...\n",
       "2         [this, trooper, will, be, in, a, few, week, st...\n",
       "3         [nah, it, cool, any, hospital, is, gon, na, ha...\n",
       "4         [thanks, i, had, never, heard, of, this, until...\n",
       "                                ...                        \n",
       "178884    [youve, got, a, year, old, and, you, are, preg...\n",
       "178885    [i, would, be, extremely, depressed, doing, th...\n",
       "178886    [your, memory, might, be, clouded, especially,...\n",
       "178887    [you, are, definitely, burned, out, and, stres...\n",
       "178888    [i, think, that, is, what, she, is, trying, to...\n",
       "Name: lemmatized, Length: 178889, dtype: object"
      ]
     },
     "execution_count": 64,
     "metadata": {},
     "output_type": "execute_result"
    }
   ],
   "source": [
    "data_clean[\"lemmatized\"]"
   ]
  },
  {
   "cell_type": "code",
   "execution_count": 66,
   "metadata": {},
   "outputs": [
    {
     "name": "stdout",
     "output_type": "stream",
     "text": [
      "9815782 words total, with a vocabulary size of 97251\n",
      "Max comment length is 334\n",
      "Min comment length is 1\n"
     ]
    }
   ],
   "source": [
    "#Examine the full vocabular of the corpus\n",
    "all_words = [word for tokens in data_clean[\"lemmatized\"] for word in tokens]\n",
    "comments_lengths = [len(tokens) for tokens in preprocessed[\"body\"]]\n",
    "vocab = sorted(list(set(all_words)))\n",
    "\n",
    "print(f'{len(all_words)} words total, with a vocabulary size of {len(vocab)}')\n",
    "print(f'Max comment length is {max(comments_lengths)}')\n",
    "print(f'Min comment length is {min(comments_lengths)}')"
   ]
  },
  {
   "cell_type": "code",
   "execution_count": 77,
   "metadata": {
    "scrolled": true
   },
   "outputs": [
    {
     "data": {
      "image/png": "[encoded data removed]",
      "text/plain": [
       "<Figure size 1080x576 with 1 Axes>"
      ]
     },
     "metadata": {
      "needs_background": "light"
     },
     "output_type": "display_data"
    }
   ],
   "source": [
    "#Examine the length of comments\n",
    "import seaborn as sns\n",
    "plt.figure(figsize = (15, 8))\n",
    "sns.countplot(comments_lengths)\n",
    "plt.locator_params(axis='x', nbins=20)\n",
    "plt.title('Comment length distribution', fontsize = 18)\n",
    "plt.xlabel('Words per comment', fontsize = 12)\n",
    "plt.ylabel('Number of comments', fontsize = 12)\n",
    "plt.show(20,10)"
   ]
  },
  {
   "cell_type": "markdown",
   "metadata": {},
   "source": [
    "#### Should we remove shorter comments? "
   ]
  },
  {
   "cell_type": "markdown",
   "metadata": {},
   "source": [
    "## What are the 30 most common words in general and for each group?"
   ]
  },
  {
   "cell_type": "markdown",
   "metadata": {},
   "source": [
    "### In general"
   ]
  },
  {
   "cell_type": "code",
   "execution_count": 80,
   "metadata": {},
   "outputs": [],
   "source": [
    "#remove stopwords\n",
    "from sklearn.feature_extraction import text\n",
    "add_stop_words = [\"i\", \"kid\", \"thing\", \"im\", \"wa\", \"youre\", \"lot\", \"dont\", \"thats\", \"shes\", \"ha\", \"anything\", \"everything\", \"bit\", \"part\", \"everyone\", \"one\", \"doesnt\", \"theyre\", \"etc\", \"u\", \"didnt\", \"mine\", \"anyone\", \"isnt\", \"well\", \"yeah\", \"get\", \"yes\", \"while\", \"whats\", \"amount\", \"youve\", \"youll\", \"haha\", \"cant\", \"le\", \"lo\", \"kiddo\", \"arent\", \"ive\", \"wouldnt\", \"op\", \"top\", \"half\", \"let\", \"wont\", \"set\", \"wasnt\", \"none\", \"yours\", \"weve\", \"ask\", \"couldnt\", \"theyll\", \"yo\", \"reddit\", \"ours\", \"go\", \"gon\", \"gt\", \"wish\", \"app\", \"tell\", \"come\", \"want\", \"itll\", \"ok\", \"yep\", \"bc\", \"youd\", \"theyve\", \"okay\", \"nope\", \"thread\", \"oh\", \"aspect\", \"kiddos\", \"omg\", \"shouldnt\", \"take\", \"yr\", \"v\", \"till\", \"push\", \"fine\", \"x\", \"d\", \"mo\", \"hi\", \"b\", \"hers\", \"theyd\", \"yup\", \"hahaha\", \"er\", \"boy\", \"baby\", \"child\", \"parent\", \"way\", \"girl\", \"son\", \"daughter\", \"mom\", \"dad\", \"husband\", \"woman\", \"lol\", \"husband\", \"wife\", \"brother\", \"sister\", \"mother\", \"father\"]\n",
    "stop_words = text.ENGLISH_STOP_WORDS.union(add_stop_words)\n",
    "#remove stopwords from tokenized dataset\n",
    "data_clean['no stopwords'] = data_clean['lemmatized'].copy()\n",
    "data_clean['no stopwords'] = data_clean['no stopwords'].apply(lambda x: [item for item in x if item not in stop_words])"
   ]
  },
  {
   "cell_type": "code",
   "execution_count": 82,
   "metadata": {},
   "outputs": [
    {
     "data": {
      "text/plain": [
       "[('just', 52727),\n",
       " ('like', 47158),\n",
       " ('time', 42603),\n",
       " ('need', 24554),\n",
       " ('think', 24301),\n",
       " ('know', 24051),\n",
       " ('year', 23788),\n",
       " ('make', 22951),\n",
       " ('day', 22837),\n",
       " ('really', 20797),\n",
       " ('old', 20598),\n",
       " ('good', 18586),\n",
       " ('month', 17666),\n",
       " ('feel', 17637),\n",
       " ('work', 17401),\n",
       " ('help', 16949),\n",
       " ('going', 16538),\n",
       " ('people', 15178),\n",
       " ('say', 14856),\n",
       " ('little', 14799),\n",
       " ('sleep', 14468),\n",
       " ('love', 13424),\n",
       " ('got', 13059),\n",
       " ('did', 12988),\n",
       " ('right', 12655),\n",
       " ('doing', 12501),\n",
       " ('try', 11850),\n",
       " ('week', 11617),\n",
       " ('home', 11178),\n",
       " ('family', 10867)]"
      ]
     },
     "execution_count": 82,
     "metadata": {},
     "output_type": "execute_result"
    }
   ],
   "source": [
    "#The most frequent words in our corpus\n",
    "from nltk.probability import FreqDist\n",
    "\n",
    "#iterate through each comment, then each token in each comment, and store in one list\n",
    "flat_words = [item for sublist in data_clean[\"no stopwords\"] for item in sublist]\n",
    "\n",
    "word_freq = FreqDist(flat_words)\n",
    "\n",
    "word_freq.most_common(30)"
   ]
  },
  {
   "cell_type": "markdown",
   "metadata": {},
   "source": [
    "### For mothers in mommit"
   ]
  },
  {
   "cell_type": "code",
   "execution_count": 87,
   "metadata": {},
   "outputs": [
    {
     "data": {
      "text/plain": [
       "[('just', 6857),\n",
       " ('like', 5708),\n",
       " ('time', 5355),\n",
       " ('month', 3640),\n",
       " ('day', 3465),\n",
       " ('old', 2866),\n",
       " ('year', 2831),\n",
       " ('know', 2781),\n",
       " ('really', 2632),\n",
       " ('think', 2589),\n",
       " ('make', 2531),\n",
       " ('feel', 2439),\n",
       " ('little', 2377),\n",
       " ('need', 2307),\n",
       " ('week', 2267),\n",
       " ('sleep', 2191),\n",
       " ('love', 2189),\n",
       " ('good', 2164),\n",
       " ('got', 2132),\n",
       " ('work', 2053),\n",
       " ('help', 1921),\n",
       " ('going', 1786),\n",
       " ('did', 1768),\n",
       " ('right', 1522),\n",
       " ('night', 1490),\n",
       " ('say', 1445),\n",
       " ('doing', 1430),\n",
       " ('people', 1427),\n",
       " ('try', 1421),\n",
       " ('look', 1393)]"
      ]
     },
     "execution_count": 87,
     "metadata": {},
     "output_type": "execute_result"
    }
   ],
   "source": [
    "from nltk.probability import FreqDist\n",
    "mothers_mommit = data_clean.copy()\n",
    "mothers_mommit = mothers_mommit[mothers_mommit.subreddit == \"Mommit\"]\n",
    "\n",
    "#iterate through each comment, then each token in each comment, and store in one list\n",
    "flat_words = [item for sublist in mothers_mommit[\"no stopwords\"] for item in sublist]\n",
    "\n",
    "word_freq = FreqDist(flat_words)\n",
    "\n",
    "word_freq.most_common(30)"
   ]
  },
  {
   "cell_type": "markdown",
   "metadata": {},
   "source": [
    "### For mothers in Parenting"
   ]
  },
  {
   "cell_type": "code",
   "execution_count": 88,
   "metadata": {},
   "outputs": [
    {
     "data": {
      "text/plain": [
       "[('just', 29633),\n",
       " ('like', 26597),\n",
       " ('time', 24186),\n",
       " ('need', 14425),\n",
       " ('year', 13938),\n",
       " ('know', 13864),\n",
       " ('think', 13809),\n",
       " ('make', 13022),\n",
       " ('day', 12815),\n",
       " ('old', 11824),\n",
       " ('really', 11741),\n",
       " ('help', 10081),\n",
       " ('good', 10072),\n",
       " ('feel', 9815),\n",
       " ('work', 9713),\n",
       " ('going', 9423),\n",
       " ('month', 9315),\n",
       " ('people', 8638),\n",
       " ('say', 8496),\n",
       " ('sleep', 8277),\n",
       " ('little', 7924),\n",
       " ('love', 7371),\n",
       " ('did', 7191),\n",
       " ('right', 7123),\n",
       " ('doing', 6967),\n",
       " ('try', 6854),\n",
       " ('school', 6766),\n",
       " ('got', 6672),\n",
       " ('home', 6658),\n",
       " ('family', 6371)]"
      ]
     },
     "execution_count": 88,
     "metadata": {},
     "output_type": "execute_result"
    }
   ],
   "source": [
    "from nltk.probability import FreqDist\n",
    "mothers_parenting = data_clean.copy()\n",
    "mothers_parenting = mothers_parenting[(mothers_parenting.subreddit == \"Parenting\") & (mothers_parenting.gender == \"mother\")]\n",
    "\n",
    "#iterate through each comment, then each token in each comment, and store in one list\n",
    "flat_words = [item for sublist in mothers_parenting[\"no stopwords\"] for item in sublist]\n",
    "\n",
    "word_freq = FreqDist(flat_words)\n",
    "\n",
    "word_freq.most_common(30)"
   ]
  },
  {
   "cell_type": "markdown",
   "metadata": {},
   "source": [
    "### For fathers in daddit"
   ]
  },
  {
   "cell_type": "code",
   "execution_count": 89,
   "metadata": {},
   "outputs": [
    {
     "data": {
      "text/plain": [
       "[('just', 3428),\n",
       " ('like', 2968),\n",
       " ('time', 2865),\n",
       " ('good', 1665),\n",
       " ('day', 1561),\n",
       " ('little', 1471),\n",
       " ('year', 1465),\n",
       " ('month', 1434),\n",
       " ('make', 1417),\n",
       " ('know', 1342),\n",
       " ('really', 1330),\n",
       " ('got', 1318),\n",
       " ('old', 1304),\n",
       " ('need', 1278),\n",
       " ('think', 1222),\n",
       " ('love', 1125),\n",
       " ('look', 1043),\n",
       " ('work', 1039),\n",
       " ('sleep', 1033),\n",
       " ('feel', 1031),\n",
       " ('going', 1031),\n",
       " ('best', 934),\n",
       " ('week', 930),\n",
       " ('help', 900),\n",
       " ('right', 900),\n",
       " ('great', 891),\n",
       " ('man', 873),\n",
       " ('did', 865),\n",
       " ('sure', 815),\n",
       " ('say', 808)]"
      ]
     },
     "execution_count": 89,
     "metadata": {},
     "output_type": "execute_result"
    }
   ],
   "source": [
    "from nltk.probability import FreqDist\n",
    "fathers_daddit = data_clean.copy()\n",
    "fathers_daddit = fathers_daddit[fathers_daddit.subreddit == \"daddit\"]\n",
    "\n",
    "#iterate through each comment, then each token in each comment, and store in one list\n",
    "flat_words = [item for sublist in fathers_daddit[\"no stopwords\"] for item in sublist]\n",
    "\n",
    "word_freq = FreqDist(flat_words)\n",
    "\n",
    "word_freq.most_common(30)"
   ]
  },
  {
   "cell_type": "markdown",
   "metadata": {},
   "source": [
    "### For fathers in Parenting"
   ]
  },
  {
   "cell_type": "code",
   "execution_count": 90,
   "metadata": {},
   "outputs": [
    {
     "data": {
      "text/plain": [
       "[('just', 12809),\n",
       " ('like', 11885),\n",
       " ('time', 10197),\n",
       " ('think', 6681),\n",
       " ('need', 6544),\n",
       " ('know', 6064),\n",
       " ('make', 5981),\n",
       " ('year', 5554),\n",
       " ('really', 5094),\n",
       " ('day', 4996),\n",
       " ('good', 4685),\n",
       " ('old', 4604),\n",
       " ('work', 4596),\n",
       " ('feel', 4352),\n",
       " ('people', 4334),\n",
       " ('going', 4298),\n",
       " ('say', 4107),\n",
       " ('help', 4047),\n",
       " ('doing', 3315),\n",
       " ('month', 3277),\n",
       " ('did', 3164),\n",
       " ('right', 3110),\n",
       " ('little', 3027),\n",
       " ('sleep', 2967),\n",
       " ('got', 2937),\n",
       " ('try', 2919),\n",
       " ('doe', 2897),\n",
       " ('maybe', 2860),\n",
       " ('life', 2794),\n",
       " ('school', 2745)]"
      ]
     },
     "execution_count": 90,
     "metadata": {},
     "output_type": "execute_result"
    }
   ],
   "source": [
    "from nltk.probability import FreqDist\n",
    "fathers_parenting = data_clean.copy()\n",
    "fathers_parenting = fathers_parenting[(fathers_parenting.subreddit == \"Parenting\") & (fathers_parenting.gender == \"father\")]\n",
    "\n",
    "#iterate through each comment, then each token in each comment, and store in one list\n",
    "flat_words = [item for sublist in fathers_parenting[\"no stopwords\"] for item in sublist]\n",
    "\n",
    "word_freq = FreqDist(flat_words)\n",
    "\n",
    "word_freq.most_common(30)"
   ]
  },
  {
   "cell_type": "markdown",
   "metadata": {},
   "source": [
    "# Additional analysis"
   ]
  },
  {
   "cell_type": "code",
   "execution_count": 41,
   "metadata": {
    "scrolled": true
   },
   "outputs": [
    {
     "name": "stdout",
     "output_type": "stream",
     "text": [
      "7401\n",
      "7791\n",
      "94.99422410473623% of authors kept after removing the 5% of users who have written the greatest amount of published comments\n"
     ]
    }
   ],
   "source": [
    "nb_authors_kept = int(len(df_activity) * .95)\n",
    "print(nb_authors_kept)\n",
    "print(len(df_activity))\n",
    "print(f\"{nb_authors_kept/len(df_activity) * 100}% of authors kept after removing the 5% of users who have written the greatest amount of published comments\")"
   ]
  },
  {
   "cell_type": "code",
   "execution_count": 42,
   "metadata": {},
   "outputs": [
    {
     "name": "stdout",
     "output_type": "stream",
     "text": [
      "83395 left from the initial 145771 comments when removing the 5% of users who have written the greatest amount of published comments\n"
     ]
    }
   ],
   "source": [
    "nb_comments = 0\n",
    "for nb in range(nb_authors_kept):\n",
    "    nb_comments += df_activity['nb of comments'][nb]\n",
    "print(f\"{nb_comments} left from the initial {len(all_parents)} comments when removing the 5% of users who have written the greatest amount of published comments\")"
   ]
  },
  {
   "cell_type": "code",
   "execution_count": 98,
   "metadata": {},
   "outputs": [
    {
     "data": {
      "text/plain": [
       "Text(0, 0.5, 'Number of Authors')"
      ]
     },
     "execution_count": 98,
     "metadata": {},
     "output_type": "execute_result"
    },
    {
     "data": {
      "image/png": "[encoded data removed]",
      "text/plain": [
       "<Figure size 432x288 with 1 Axes>"
      ]
     },
     "metadata": {
      "needs_background": "light"
     },
     "output_type": "display_data"
    }
   ],
   "source": [
    "# matplotlib histogram\n",
    "plt.hist(df_activity[\"nb of comments\"][:nb_authors_kept], color = 'salmon', edgecolor = 'black',\n",
    "         bins = int(100))\n",
    "\n",
    "\n",
    "# Add labels\n",
    "plt.title(\"Number of comments published by selected parents\")\n",
    "plt.xlabel('Number of Comments')\n",
    "plt.ylabel('Number of Authors')"
   ]
  },
  {
   "cell_type": "code",
   "execution_count": 97,
   "metadata": {},
   "outputs": [
    {
     "data": {
      "text/plain": [
       "count    7894.000000\n",
       "mean       12.220547\n",
       "std        13.050279\n",
       "min         1.000000\n",
       "25%         4.000000\n",
       "50%         7.000000\n",
       "75%        15.000000\n",
       "max        70.000000\n",
       "Name: nb of comments, dtype: float64"
      ]
     },
     "execution_count": 97,
     "metadata": {},
     "output_type": "execute_result"
    }
   ],
   "source": [
    "df_activity[\"nb of comments\"][:nb_authors_kept].describe()"
   ]
  }
 ],
 "metadata": {
  "colab": {
   "name": "reddit-1.ipynb",
   "provenance": []
  },
  "kernelspec": {
   "display_name": "master_thesis",
   "language": "python",
   "name": "master_thesis"
  },
  "language_info": {
   "codemirror_mode": {
    "name": "ipython",
    "version": 3
   },
   "file_extension": ".py",
   "mimetype": "text/x-python",
   "name": "python",
   "nbconvert_exporter": "python",
   "pygments_lexer": "ipython3",
   "version": "3.8.5"
  }
 },
 "nbformat": 4,
 "nbformat_minor": 1
}
